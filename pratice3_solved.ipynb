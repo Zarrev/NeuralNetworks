{
 "cells": [
  {
   "cell_type": "code",
   "execution_count": 5,
   "metadata": {
    "collapsed": true
   },
   "outputs": [
    {
     "name": "stdout",
     "output_type": "stream",
     "text": [
      "-12.0\n[-4.0] x:0\n[-4.0] y:0\n[3.0] z:0\n[-4.0] q:0\n[1.0] f:0\n"
     ]
    }
   ],
   "source": [
    "#Import those libraries what you need for the well-working code\n",
    "import tensorflow as tf\n",
    "\n",
    "# Define the following computional graph: \n",
    "# [https://wiki.itk.ppke.hu/twiki/pub/PPKE/NeuralNetworks20182019Fall/pract03.pdf] (4th page)\n",
    "\n",
    "# Define the placholders(3)\n",
    "x = tf.placeholder(tf.float32, name=\"x\")\n",
    "y = tf.placeholder(tf.float32, name=\"y\")\n",
    "z = tf.placeholder(tf.float32, name=\"z\")\n",
    "\n",
    "# Define the operations between the nodes\n",
    "q = tf.add(x, y, name=\"q\")\n",
    "f = tf.multiply(q, z, name=\"f\")\n",
    "\n",
    "my_graph = [x, y, z, q, f]\n",
    "\n",
    "# Define the feed_dict list\n",
    "feed_dict = {x: -2., y: 5., z: -4}\n",
    "\n",
    "# Use the forward propagation and show me what will be the output of the computional graph\n",
    "# hint: session, run, feed_dict, print\n",
    "with tf.Session() as ss:\n",
    "    print(ss.run(f, feed_dict=feed_dict))\n",
    "\n",
    "# Use the backpropagation and show me what will be the nodes' values\n",
    "# hint: gradients, feed_dict, run, print\n",
    "    for e in my_graph:\n",
    "        print(ss.run(tf.gradients(f,e), feed_dict=feed_dict), e.name)"
   ]
  },
  {
   "cell_type": "code",
   "execution_count": null,
   "metadata": {},
   "outputs": [],
   "source": []
  }
 ],
 "metadata": {
  "kernelspec": {
   "display_name": "Python 2",
   "language": "python",
   "name": "python2"
  },
  "language_info": {
   "codemirror_mode": {
    "name": "ipython",
    "version": 2
   },
   "file_extension": ".py",
   "mimetype": "text/x-python",
   "name": "python",
   "nbconvert_exporter": "python",
   "pygments_lexer": "ipython2",
   "version": "2.7.6"
  }
 },
 "nbformat": 4,
 "nbformat_minor": 0
}
